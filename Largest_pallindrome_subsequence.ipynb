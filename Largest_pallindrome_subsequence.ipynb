{
  "nbformat": 4,
  "nbformat_minor": 0,
  "metadata": {
    "colab": {
      "name": "Largest_pallindrome_subsequence.ipynb",
      "provenance": []
    },
    "kernelspec": {
      "name": "python3",
      "display_name": "Python 3"
    },
    "language_info": {
      "name": "python"
    }
  },
  "cells": [
    {
      "cell_type": "code",
      "metadata": {
        "colab": {
          "base_uri": "https://localhost:8080/"
        },
        "id": "5lC2zhJMBz99",
        "outputId": "b3a42cd3-d1f6-47e2-be7f-52aef4d52a3b"
      },
      "source": [
        "#USING RECURSION\n",
        "# Function to calculate max of two integers\n",
        "def max(x,y):\n",
        "  if(x>y):\n",
        "    return x\n",
        "  return y\n",
        "\n",
        "# Function to get largest possible subsequence\n",
        "def lps(word,i,j):\n",
        "\n",
        "  # If there is only 1 character\n",
        "  if(i==j):\n",
        "    return 1\n",
        "\n",
        "\t# If there are only 2 characters and both are same\n",
        "  if(word[i]==word[j] and i+1==j):\n",
        "    return 2\n",
        "\n",
        "\t# If the first and last characters match\n",
        "  if(word[i]==word[j]):\n",
        "    return lps(word,i+1,j-1)+2\n",
        "\n",
        "\t# If the first and last characters do not match\n",
        "  return max(lps(word,i,j-1),lps(word,i+1,j))\n",
        "\n",
        "# Main\n",
        "if __name__==\"__main__\":\n",
        "  word = input(\"Enter a word: \")\n",
        "  n = len(word)\n",
        "  print(\"The length of Largest pallindrome subsequence is \",lps(word,0,n-1))\n",
        "  \n",
        "\n"
      ],
      "execution_count": 69,
      "outputs": [
        {
          "output_type": "stream",
          "name": "stdout",
          "text": [
            "Enter a word: Steve\n",
            "The length of Largest pallindrome subsequence is  3\n"
          ]
        }
      ]
    },
    {
      "cell_type": "code",
      "metadata": {
        "colab": {
          "base_uri": "https://localhost:8080/"
        },
        "id": "LAM7YBXncSLn",
        "outputId": "9b887daa-9bdb-43fd-8dc4-3e12fcb91cf1"
      },
      "source": [
        "# USING DYNAMIC PROGRAMMING\n",
        "# Function to find the length of LCS of substring `X[0…n-1]` and `Y[0…n-1]`\n",
        "def LCSLength(X, Y, n, lookup):\n",
        " \n",
        "    # The first row and first column of the lookup table are already 0.\n",
        "    for i in range(1, n + 1):\n",
        "        for j in range(1, n + 1):\n",
        "            # if current character of X and Y matches\n",
        "            if X[i - 1] == Y[j - 1]:\n",
        "                lookup[i][j] = lookup[i - 1][j - 1] + 1\n",
        " \n",
        "            # if the current character of X and Y don't match\n",
        "            else:\n",
        "                lookup[i][j] = max(lookup[i - 1][j], lookup[i][j - 1])\n",
        " \n",
        "    return lookup[n][n]\n",
        " \n",
        " \n",
        "if __name__ == '__main__':\n",
        "    X = 'etiyntje'\n",
        "    # store reverse of X in Y\n",
        "    Y = X[::-1]\n",
        "    lookup = [[0 for x in range(len(X) + 1)] for y in range(len(X) + 1)]\n",
        "    print('The length of the longest palindromic subsequence is',\n",
        "        LCSLength(X, Y, len(X), lookup))\n",
        " "
      ],
      "execution_count": 1,
      "outputs": [
        {
          "output_type": "stream",
          "name": "stdout",
          "text": [
            "The length of the longest palindromic subsequence is 5\n"
          ]
        }
      ]
    }
  ]
}